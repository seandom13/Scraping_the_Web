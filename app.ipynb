{
 "cells": [
  {
   "cell_type": "code",
   "execution_count": 9,
   "metadata": {},
   "outputs": [
    {
     "name": "stdout",
     "output_type": "stream",
     "text": [
      "Requirement already satisfied: pymongo in c:\\users\\seand\\anaconda3\\envs\\pythondata\\lib\\site-packages (3.9.0)\n"
     ]
    }
   ],
   "source": [
    "!pip install pymongo"
   ]
  },
  {
   "cell_type": "code",
   "execution_count": 10,
   "metadata": {},
   "outputs": [
    {
     "name": "stdout",
     "output_type": "stream",
     "text": [
      "Requirement already satisfied: Flask-PyMongo in c:\\users\\seand\\anaconda3\\envs\\pythondata\\lib\\site-packages (2.3.0)\n",
      "Requirement already satisfied: PyMongo>=3.3 in c:\\users\\seand\\anaconda3\\envs\\pythondata\\lib\\site-packages (from Flask-PyMongo) (3.9.0)\n",
      "Requirement already satisfied: Flask>=0.11 in c:\\users\\seand\\anaconda3\\envs\\pythondata\\lib\\site-packages (from Flask-PyMongo) (1.1.1)\n",
      "Requirement already satisfied: Jinja2>=2.10.1 in c:\\users\\seand\\anaconda3\\envs\\pythondata\\lib\\site-packages (from Flask>=0.11->Flask-PyMongo) (2.10.1)\n",
      "Requirement already satisfied: itsdangerous>=0.24 in c:\\users\\seand\\anaconda3\\envs\\pythondata\\lib\\site-packages (from Flask>=0.11->Flask-PyMongo) (1.1.0)\n",
      "Requirement already satisfied: Werkzeug>=0.15 in c:\\users\\seand\\anaconda3\\envs\\pythondata\\lib\\site-packages (from Flask>=0.11->Flask-PyMongo) (0.15.4)\n",
      "Requirement already satisfied: click>=5.1 in c:\\users\\seand\\anaconda3\\envs\\pythondata\\lib\\site-packages (from Flask>=0.11->Flask-PyMongo) (7.0)\n",
      "Requirement already satisfied: MarkupSafe>=0.23 in c:\\users\\seand\\anaconda3\\envs\\pythondata\\lib\\site-packages (from Jinja2>=2.10.1->Flask>=0.11->Flask-PyMongo) (1.1.1)\n"
     ]
    }
   ],
   "source": [
    "!pip install Flask-PyMongo"
   ]
  },
  {
   "cell_type": "code",
   "execution_count": 11,
   "metadata": {},
   "outputs": [
    {
     "ename": "ModuleNotFoundError",
     "evalue": "No module named 'scrape_mars'",
     "output_type": "error",
     "traceback": [
      "\u001b[1;31m---------------------------------------------------------------------------\u001b[0m",
      "\u001b[1;31mModuleNotFoundError\u001b[0m                       Traceback (most recent call last)",
      "\u001b[1;32m<ipython-input-11-0d5dfd45d39f>\u001b[0m in \u001b[0;36m<module>\u001b[1;34m\u001b[0m\n\u001b[0;32m      3\u001b[0m \u001b[1;32mimport\u001b[0m \u001b[0mpymongo\u001b[0m\u001b[1;33m\u001b[0m\u001b[1;33m\u001b[0m\u001b[0m\n\u001b[0;32m      4\u001b[0m \u001b[1;32mimport\u001b[0m \u001b[0mrequests\u001b[0m\u001b[1;33m\u001b[0m\u001b[1;33m\u001b[0m\u001b[0m\n\u001b[1;32m----> 5\u001b[1;33m \u001b[1;32mimport\u001b[0m \u001b[0mscrape_mars\u001b[0m\u001b[1;33m\u001b[0m\u001b[1;33m\u001b[0m\u001b[0m\n\u001b[0m\u001b[0;32m      6\u001b[0m \u001b[1;32mimport\u001b[0m \u001b[0mos\u001b[0m\u001b[1;33m\u001b[0m\u001b[1;33m\u001b[0m\u001b[0m\n",
      "\u001b[1;31mModuleNotFoundError\u001b[0m: No module named 'scrape_mars'"
     ]
    }
   ],
   "source": [
    "# Import Dependencies \n",
    "from flask import Flask, render_template, redirect \n",
    "import pymongo\n",
    "import requests\n",
    "import scrape_mars\n",
    "import os"
   ]
  },
  {
   "cell_type": "code",
   "execution_count": null,
   "metadata": {},
   "outputs": [],
   "source": [
    "app = Flask(__name__)\n",
    "conn = 'mongodb://localhost:27017'\n",
    "client = pymongo.MongoClient(conn)\n"
   ]
  },
  {
   "cell_type": "code",
   "execution_count": null,
   "metadata": {},
   "outputs": [],
   "source": [
    "@app.route(\"/\")\n",
    "def home():\n",
    "           mars_info = mongo.db.mars_info.find_one()\n",
    "           \n",
    "           return render_template(\"index.html\", mars_info=mars_info)\n",
    "           "
   ]
  },
  {
   "cell_type": "code",
   "execution_count": null,
   "metadata": {},
   "outputs": [],
   "source": [
    "@app.route(\"/scrape\")\n",
    "def scrape():\n",
    "    \n",
    "    mars_info = mongo.db.mars_info\n",
    "    mars_data = scrape_mars.scrape_news\n",
    "    mars_data = scrape_mars.scrape_image\n",
    "    mars_data = scrape_mars.scrape_weather\n",
    "    mars_data = scrape_mars.scrape_facts\n",
    "    mars_data = scrape_mars.scrape_hemisphere\n",
    "    mars_info.updata({}, mars_data, upsert=True)\n",
    "    \n",
    "    return redirect(\"/\")\n",
    "\n",
    "if __name__ == \"__main__\":\n",
    "    app.run(debug=True)"
   ]
  },
  {
   "cell_type": "code",
   "execution_count": null,
   "metadata": {},
   "outputs": [],
   "source": []
  }
 ],
 "metadata": {
  "kernelspec": {
   "display_name": "Python 3",
   "language": "python",
   "name": "python3"
  },
  "language_info": {
   "codemirror_mode": {
    "name": "ipython",
    "version": 3
   },
   "file_extension": ".py",
   "mimetype": "text/x-python",
   "name": "python",
   "nbconvert_exporter": "python",
   "pygments_lexer": "ipython3",
   "version": "3.7.3"
  }
 },
 "nbformat": 4,
 "nbformat_minor": 2
}
