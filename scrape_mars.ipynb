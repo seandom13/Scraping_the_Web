{
 "cells": [
  {
   "cell_type": "code",
   "execution_count": 17,
   "metadata": {},
   "outputs": [],
   "source": [
    "#import dependencies\n",
    "from bs4 import BeautifulSoup\n",
    "from splinter import Browser\n",
    "import os\n",
    "import pandas as pd\n",
    "import time\n",
    "from selenium import webdriver\n"
   ]
  },
  {
   "cell_type": "code",
   "execution_count": 19,
   "metadata": {},
   "outputs": [
    {
     "data": {
      "text/plain": [
       "{'news_title': \"Mars InSight's 'Mole' Is Moving Again\",\n",
       " 'news_paragraph': \"The NASA lander's robotic arm seems to have helped its heat probe burrow almost 2 centimeters (3/4 of an inch) since last week.\"}"
      ]
     },
     "execution_count": 19,
     "metadata": {},
     "output_type": "execute_result"
    }
   ],
   "source": [
    "def init_browser():\n",
    "    executable_path = {'executable_path': 'chromedriver.exe'}\n",
    "    return Browser(\"chrome\", **executable_path, headless = False)\n",
    "mars_info= {}\n",
    "\n",
    "def scrape_news():\n",
    "    try:\n",
    "        browser = init_browser()\n",
    "        url = 'https://mars.nasa.gov/news/'\n",
    "        browser.visit(url)\n",
    "        time.sleep(2)\n",
    "\n",
    "        html = browser.html\n",
    "        soup = BeautifulSoup(html,\"html.parser\")\n",
    "    \n",
    " #Scraping the latest news from Nasa about Mars\n",
    "        news_title = soup.find(\"div\",class_=\"content_title\").find('a').text\n",
    "        news_paragraph = soup.find(\"div\", class_=\"article_teaser_body\").text\n",
    "        mars_info['news_title'] = news_title\n",
    "        mars_info['news_paragraph'] = news_paragraph\n",
    "\n",
    "        return mars_info\n",
    "    finally:\n",
    "        browser.quit()\n",
    "scrape_news()"
   ]
  },
  {
   "cell_type": "code",
   "execution_count": null,
   "metadata": {},
   "outputs": [],
   "source": []
  },
  {
   "cell_type": "code",
   "execution_count": 20,
   "metadata": {},
   "outputs": [
    {
     "data": {
      "text/plain": [
       "{'news_title': \"Mars InSight's 'Mole' Is Moving Again\",\n",
       " 'news_paragraph': \"The NASA lander's robotic arm seems to have helped its heat probe burrow almost 2 centimeters (3/4 of an inch) since last week.\",\n",
       " 'featured_image_url': 'https://ww.jpl.nasa.gov/spaceimages/images/wallpaper/PIA19673-1920x1200.jpg'}"
      ]
     },
     "execution_count": 20,
     "metadata": {},
     "output_type": "execute_result"
    }
   ],
   "source": [
    "#Image\n",
    "def scrape_image():\n",
    "    try:\n",
    "        browser = init_browser()\n",
    "        featured_image_url = 'https://www.jpl.nasa.gov/spaceimages/?search=&category=Mars'\n",
    "        browser.visit(featured_image_url)\n",
    "        \n",
    "        html_image = browser.html\n",
    "        soup = BeautifulSoup(html_image, 'html.parser')\n",
    "        \n",
    "        featured_image_url =soup.find('article')['style'].replace('background-image: url(','').replace(');','')[1:-1]\n",
    "        main_url = 'https://ww.jpl.nasa.gov'\n",
    "        featured_image_url = main_url + featured_image_url\n",
    "        \n",
    "        featured_image_url\n",
    "        \n",
    "        mars_info['featured_image_url'] = featured_image_url\n",
    "        \n",
    "        return mars_info\n",
    "    finally:\n",
    "        browser.quit()\n",
    "scrape_image()\n",
    "        \n",
    "        \n",
    "        \n",
    "        \n",
    "\n"
   ]
  },
  {
   "cell_type": "code",
   "execution_count": 22,
   "metadata": {},
   "outputs": [
    {
     "name": "stdout",
     "output_type": "stream",
     "text": [
      "InSight sol 314 (2019-10-15) low -102.8ºC (-153.0ºF) high -24.8ºC (-12.6ºF)\n",
      "winds from the SSE at 4.9 m/s (11.1 mph) gusting to 19.7 m/s (44.0 mph)\n",
      "pressure at 7.20 hPapic.twitter.com/VONawbIeG4\n"
     ]
    }
   ],
   "source": [
    "#Mars Weather\n",
    "def scrape_weather():\n",
    "    try:\n",
    "        browser= init_browser()\n",
    "        weather_url = 'https://twitter.com/marswxreport?lang=en'\n",
    "        browser.visit(weather_url)\n",
    "        \n",
    "        html_weather = browser.html\n",
    "        \n",
    "        soup = BeautifulSoup(html_weather,'html.parser')\n",
    "        \n",
    "        latest_tweets = soup.find_all('div', class_='js-tweet-text-container')\n",
    "        \n",
    "        for tweet in latest_tweets:\n",
    "            weather_tweet = tweet.find('p').text\n",
    "            if 'Sol' and 'pressure' in weather_tweet:\n",
    "                print(weather_tweet)\n",
    "                break\n",
    "            else:\n",
    "                pass\n",
    "            \n",
    "            mars_info['weather_tweet'] = weather_tweet\n",
    "            \n",
    "            return mars_info\n",
    "    finally:\n",
    "        browser.quit()\n",
    "scrape_weather()"
   ]
  },
  {
   "cell_type": "code",
   "execution_count": 27,
   "metadata": {},
   "outputs": [
    {
     "data": {
      "text/plain": [
       "{'news_title': \"Mars InSight's 'Mole' Is Moving Again\",\n",
       " 'news_paragraph': \"The NASA lander's robotic arm seems to have helped its heat probe burrow almost 2 centimeters (3/4 of an inch) since last week.\",\n",
       " 'featured_image_url': 'https://ww.jpl.nasa.gov/spaceimages/images/wallpaper/PIA19673-1920x1200.jpg',\n",
       " 'mars_facts': '<table border=\"1\" class=\"dataframe\">\\n  <thead>\\n    <tr style=\"text-align: right;\">\\n      <th></th>\\n      <th>Value</th>\\n    </tr>\\n    <tr>\\n      <th>Description</th>\\n      <th></th>\\n    </tr>\\n  </thead>\\n  <tbody>\\n    <tr>\\n      <th>Equatorial Diameter:</th>\\n      <td>6,792 km</td>\\n    </tr>\\n    <tr>\\n      <th>Polar Diameter:</th>\\n      <td>6,752 km</td>\\n    </tr>\\n    <tr>\\n      <th>Mass:</th>\\n      <td>6.39 × 10^23 kg (0.11 Earths)</td>\\n    </tr>\\n    <tr>\\n      <th>Moons:</th>\\n      <td>2 (Phobos &amp; Deimos)</td>\\n    </tr>\\n    <tr>\\n      <th>Orbit Distance:</th>\\n      <td>227,943,824 km (1.38 AU)</td>\\n    </tr>\\n    <tr>\\n      <th>Orbit Period:</th>\\n      <td>687 days (1.9 years)</td>\\n    </tr>\\n    <tr>\\n      <th>Surface Temperature:</th>\\n      <td>-87 to -5 °C</td>\\n    </tr>\\n    <tr>\\n      <th>First Record:</th>\\n      <td>2nd millennium BC</td>\\n    </tr>\\n    <tr>\\n      <th>Recorded By:</th>\\n      <td>Egyptian astronomers</td>\\n    </tr>\\n  </tbody>\\n</table>'}"
      ]
     },
     "execution_count": 27,
     "metadata": {},
     "output_type": "execute_result"
    }
   ],
   "source": [
    "#Facts\n",
    "def scrape_facts():\n",
    "    facts_url = 'https://space-facts.com/mars/'\n",
    "    mars_facts = pd.read_html(facts_url)\n",
    "    \n",
    "    mars_df = mars_facts[1]\n",
    "    \n",
    "    mars_df.columns = ['Description','Value']\n",
    "    \n",
    "    mars_df.set_index('Description', inplace=True)\n",
    "    \n",
    "    data = mars_df.to_html()\n",
    "    \n",
    "    mars_info['mars_facts'] = data\n",
    "    \n",
    "    return mars_info\n",
    "scrape_facts()\n"
   ]
  },
  {
   "cell_type": "code",
   "execution_count": 29,
   "metadata": {},
   "outputs": [
    {
     "data": {
      "text/plain": [
       "{'news_title': \"Mars InSight's 'Mole' Is Moving Again\",\n",
       " 'news_paragraph': \"The NASA lander's robotic arm seems to have helped its heat probe burrow almost 2 centimeters (3/4 of an inch) since last week.\",\n",
       " 'featured_image_url': 'https://ww.jpl.nasa.gov/spaceimages/images/wallpaper/PIA19673-1920x1200.jpg',\n",
       " 'mars_facts': '<table border=\"1\" class=\"dataframe\">\\n  <thead>\\n    <tr style=\"text-align: right;\">\\n      <th></th>\\n      <th>Value</th>\\n    </tr>\\n    <tr>\\n      <th>Description</th>\\n      <th></th>\\n    </tr>\\n  </thead>\\n  <tbody>\\n    <tr>\\n      <th>Equatorial Diameter:</th>\\n      <td>6,792 km</td>\\n    </tr>\\n    <tr>\\n      <th>Polar Diameter:</th>\\n      <td>6,752 km</td>\\n    </tr>\\n    <tr>\\n      <th>Mass:</th>\\n      <td>6.39 × 10^23 kg (0.11 Earths)</td>\\n    </tr>\\n    <tr>\\n      <th>Moons:</th>\\n      <td>2 (Phobos &amp; Deimos)</td>\\n    </tr>\\n    <tr>\\n      <th>Orbit Distance:</th>\\n      <td>227,943,824 km (1.38 AU)</td>\\n    </tr>\\n    <tr>\\n      <th>Orbit Period:</th>\\n      <td>687 days (1.9 years)</td>\\n    </tr>\\n    <tr>\\n      <th>Surface Temperature:</th>\\n      <td>-87 to -5 °C</td>\\n    </tr>\\n    <tr>\\n      <th>First Record:</th>\\n      <td>2nd millennium BC</td>\\n    </tr>\\n    <tr>\\n      <th>Recorded By:</th>\\n      <td>Egyptian astronomers</td>\\n    </tr>\\n  </tbody>\\n</table>',\n",
       " 'hemi_urls': [{'title': 'Cerberus Hemisphere Enhanced',\n",
       "   'img_url': 'https://astrogeology.usgs.gov/cache/images/cfa62af2557222a02478f1fcd781d445_cerberus_enhanced.tif_full.jpg'},\n",
       "  {'title': 'Schiaparelli Hemisphere Enhanced',\n",
       "   'img_url': 'https://astrogeology.usgs.gov/cache/images/3cdd1cbf5e0813bba925c9030d13b62e_schiaparelli_enhanced.tif_full.jpg'},\n",
       "  {'title': 'Syrtis Major Hemisphere Enhanced',\n",
       "   'img_url': 'https://astrogeology.usgs.gov/cache/images/ae209b4e408bb6c3e67b6af38168cf28_syrtis_major_enhanced.tif_full.jpg'},\n",
       "  {'title': 'Valles Marineris Hemisphere Enhanced',\n",
       "   'img_url': 'https://astrogeology.usgs.gov/cache/images/7cf2da4bf549ed01c17f206327be4db7_valles_marineris_enhanced.tif_full.jpg'}]}"
      ]
     },
     "execution_count": 29,
     "metadata": {},
     "output_type": "execute_result"
    }
   ],
   "source": [
    "#Hemisphere\n",
    "def scrape_hemisphere():\n",
    "    try:\n",
    "        browser = init_browser()\n",
    "        hemispheres_url= 'https://astrogeology.usgs.gov/search/results?q=hemisphere+enhanced&k1=target&v1=Mars'\n",
    "        browser.visit(hemispheres_url)\n",
    "        \n",
    "        html_hemispheres = browser.html\n",
    "        \n",
    "        soup = BeautifulSoup(html_hemispheres, 'html.parser')\n",
    "        \n",
    "        items = soup.find_all('div', class_='item')\n",
    "        \n",
    "        hemi_urls = []\n",
    "        \n",
    "        hemispheres_main_url = 'https://astrogeology.usgs.gov'\n",
    "        \n",
    "        for i in items:\n",
    "            title = i.find('h3').text\n",
    "            partial_image_url = i.find('a',class_='itemLink product-item')['href']\n",
    "            browser.visit(hemispheres_main_url + partial_image_url)\n",
    "            partial_image_url = browser.html\n",
    "            soup = BeautifulSoup( partial_image_url, 'html.parser')\n",
    "            img_url = hemispheres_main_url + soup.find('img', class_='wide-image')['src']\n",
    "            hemi_urls.append({\"title\" : title, \"img_url\" : img_url})\n",
    "                                       \n",
    "        mars_info['hemi_urls'] = hemi_urls\n",
    "        \n",
    "                                       \n",
    "        return mars_info\n",
    "    finally:\n",
    "        browser.quit()\n",
    "scrape_hemisphere()\n",
    "                                       \n",
    "                                       \n",
    "        \n",
    "        \n",
    "        "
   ]
  },
  {
   "cell_type": "code",
   "execution_count": null,
   "metadata": {},
   "outputs": [],
   "source": []
  },
  {
   "cell_type": "code",
   "execution_count": null,
   "metadata": {},
   "outputs": [],
   "source": []
  }
 ],
 "metadata": {
  "kernelspec": {
   "display_name": "Python 3",
   "language": "python",
   "name": "python3"
  },
  "language_info": {
   "codemirror_mode": {
    "name": "ipython",
    "version": 3
   },
   "file_extension": ".py",
   "mimetype": "text/x-python",
   "name": "python",
   "nbconvert_exporter": "python",
   "pygments_lexer": "ipython3",
   "version": "3.7.3"
  }
 },
 "nbformat": 4,
 "nbformat_minor": 2
}
